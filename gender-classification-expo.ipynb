{
 "cells": [
  {
   "cell_type": "code",
   "execution_count": 1,
   "metadata": {
    "execution": {
     "iopub.execute_input": "2024-01-21T16:23:22.427322Z",
     "iopub.status.busy": "2024-01-21T16:23:22.426555Z",
     "iopub.status.idle": "2024-01-21T16:23:28.004173Z",
     "shell.execute_reply": "2024-01-21T16:23:28.003316Z",
     "shell.execute_reply.started": "2024-01-21T15:16:31.437083Z"
    },
    "papermill": {
     "duration": 5.599652,
     "end_time": "2024-01-21T16:23:28.004373",
     "exception": false,
     "start_time": "2024-01-21T16:23:22.404721",
     "status": "completed"
    },
    "tags": []
   },
   "outputs": [],
   "source": [
    "import pandas as pd\n",
    "import numpy as np\n",
    "import seaborn as sns\n",
    "import os\n",
    "from PIL import Image, ImageOps\n",
    "from sklearn.model_selection import train_test_split\n",
    "\n",
    "from keras.models import Sequential\n",
    "from keras.layers import Conv2D, MaxPooling2D, Activation, Dropout, Flatten, Dense\n",
    "from keras import optimizers\n",
    "from keras.preprocessing.image import ImageDataGenerator\n",
    "import tensorflow as tf"
   ]
  },
  {
   "cell_type": "code",
   "execution_count": 2,
   "metadata": {
    "execution": {
     "iopub.execute_input": "2024-01-21T16:23:28.041530Z",
     "iopub.status.busy": "2024-01-21T16:23:28.040603Z",
     "iopub.status.idle": "2024-01-21T16:23:28.044219Z",
     "shell.execute_reply": "2024-01-21T16:23:28.044687Z",
     "shell.execute_reply.started": "2024-01-21T15:16:31.445124Z"
    },
    "papermill": {
     "duration": 0.025639,
     "end_time": "2024-01-21T16:23:28.044870",
     "exception": false,
     "start_time": "2024-01-21T16:23:28.019231",
     "status": "completed"
    },
    "tags": []
   },
   "outputs": [
    {
     "data": {
      "text/plain": [
       "'7.2.0'"
      ]
     },
     "execution_count": 2,
     "metadata": {},
     "output_type": "execute_result"
    }
   ],
   "source": [
    "import PIL\n",
    "PIL.__version__"
   ]
  },
  {
   "cell_type": "markdown",
   "metadata": {
    "papermill": {
     "duration": 0.014732,
     "end_time": "2024-01-21T16:23:28.074608",
     "exception": false,
     "start_time": "2024-01-21T16:23:28.059876",
     "status": "completed"
    },
    "tags": []
   },
   "source": [
    "Data Loading"
   ]
  },
  {
   "cell_type": "code",
   "execution_count": 3,
   "metadata": {
    "execution": {
     "iopub.execute_input": "2024-01-21T16:23:28.110594Z",
     "iopub.status.busy": "2024-01-21T16:23:28.110015Z",
     "iopub.status.idle": "2024-01-21T16:24:14.802476Z",
     "shell.execute_reply": "2024-01-21T16:24:14.801725Z",
     "shell.execute_reply.started": "2024-01-21T15:16:31.457035Z"
    },
    "papermill": {
     "duration": 46.713044,
     "end_time": "2024-01-21T16:24:14.802631",
     "exception": false,
     "start_time": "2024-01-21T16:23:28.089587",
     "status": "completed"
    },
    "tags": []
   },
   "outputs": [],
   "source": [
    "images = []\n",
    "genders = []\n",
    "\n",
    "for i in os.listdir('../input/utkface-new/crop_part1/')[0:8000]:\n",
    "    split = i.split('_')\n",
    "    genders.append(int(split[1]))\n",
    "    images.append(Image.open('../input/utkface-new/crop_part1/' + i))"
   ]
  },
  {
   "cell_type": "code",
   "execution_count": 4,
   "metadata": {
    "execution": {
     "iopub.execute_input": "2024-01-21T16:24:14.860607Z",
     "iopub.status.busy": "2024-01-21T16:24:14.859970Z",
     "iopub.status.idle": "2024-01-21T16:24:14.867688Z",
     "shell.execute_reply": "2024-01-21T16:24:14.867208Z",
     "shell.execute_reply.started": "2024-01-21T15:16:36.911965Z"
    },
    "papermill": {
     "duration": 0.049663,
     "end_time": "2024-01-21T16:24:14.867823",
     "exception": false,
     "start_time": "2024-01-21T16:24:14.818160",
     "status": "completed"
    },
    "tags": []
   },
   "outputs": [
    {
     "data": {
      "text/html": [
       "<div>\n",
       "<style scoped>\n",
       "    .dataframe tbody tr th:only-of-type {\n",
       "        vertical-align: middle;\n",
       "    }\n",
       "\n",
       "    .dataframe tbody tr th {\n",
       "        vertical-align: top;\n",
       "    }\n",
       "\n",
       "    .dataframe thead th {\n",
       "        text-align: right;\n",
       "    }\n",
       "</style>\n",
       "<table border=\"1\" class=\"dataframe\">\n",
       "  <thead>\n",
       "    <tr style=\"text-align: right;\">\n",
       "      <th></th>\n",
       "      <th>Images</th>\n",
       "      <th>Genders</th>\n",
       "    </tr>\n",
       "  </thead>\n",
       "  <tbody>\n",
       "    <tr>\n",
       "      <th>0</th>\n",
       "      <td>&lt;PIL.JpegImagePlugin.JpegImageFile image mode=...</td>\n",
       "      <td>0</td>\n",
       "    </tr>\n",
       "    <tr>\n",
       "      <th>1</th>\n",
       "      <td>&lt;PIL.JpegImagePlugin.JpegImageFile image mode=...</td>\n",
       "      <td>1</td>\n",
       "    </tr>\n",
       "    <tr>\n",
       "      <th>2</th>\n",
       "      <td>&lt;PIL.JpegImagePlugin.JpegImageFile image mode=...</td>\n",
       "      <td>1</td>\n",
       "    </tr>\n",
       "    <tr>\n",
       "      <th>3</th>\n",
       "      <td>&lt;PIL.JpegImagePlugin.JpegImageFile image mode=...</td>\n",
       "      <td>0</td>\n",
       "    </tr>\n",
       "    <tr>\n",
       "      <th>4</th>\n",
       "      <td>&lt;PIL.JpegImagePlugin.JpegImageFile image mode=...</td>\n",
       "      <td>1</td>\n",
       "    </tr>\n",
       "    <tr>\n",
       "      <th>...</th>\n",
       "      <td>...</td>\n",
       "      <td>...</td>\n",
       "    </tr>\n",
       "    <tr>\n",
       "      <th>7995</th>\n",
       "      <td>&lt;PIL.JpegImagePlugin.JpegImageFile image mode=...</td>\n",
       "      <td>0</td>\n",
       "    </tr>\n",
       "    <tr>\n",
       "      <th>7996</th>\n",
       "      <td>&lt;PIL.JpegImagePlugin.JpegImageFile image mode=...</td>\n",
       "      <td>0</td>\n",
       "    </tr>\n",
       "    <tr>\n",
       "      <th>7997</th>\n",
       "      <td>&lt;PIL.JpegImagePlugin.JpegImageFile image mode=...</td>\n",
       "      <td>0</td>\n",
       "    </tr>\n",
       "    <tr>\n",
       "      <th>7998</th>\n",
       "      <td>&lt;PIL.JpegImagePlugin.JpegImageFile image mode=...</td>\n",
       "      <td>1</td>\n",
       "    </tr>\n",
       "    <tr>\n",
       "      <th>7999</th>\n",
       "      <td>&lt;PIL.JpegImagePlugin.JpegImageFile image mode=...</td>\n",
       "      <td>0</td>\n",
       "    </tr>\n",
       "  </tbody>\n",
       "</table>\n",
       "<p>8000 rows × 2 columns</p>\n",
       "</div>"
      ],
      "text/plain": [
       "                                                 Images  Genders\n",
       "0     <PIL.JpegImagePlugin.JpegImageFile image mode=...        0\n",
       "1     <PIL.JpegImagePlugin.JpegImageFile image mode=...        1\n",
       "2     <PIL.JpegImagePlugin.JpegImageFile image mode=...        1\n",
       "3     <PIL.JpegImagePlugin.JpegImageFile image mode=...        0\n",
       "4     <PIL.JpegImagePlugin.JpegImageFile image mode=...        1\n",
       "...                                                 ...      ...\n",
       "7995  <PIL.JpegImagePlugin.JpegImageFile image mode=...        0\n",
       "7996  <PIL.JpegImagePlugin.JpegImageFile image mode=...        0\n",
       "7997  <PIL.JpegImagePlugin.JpegImageFile image mode=...        0\n",
       "7998  <PIL.JpegImagePlugin.JpegImageFile image mode=...        1\n",
       "7999  <PIL.JpegImagePlugin.JpegImageFile image mode=...        0\n",
       "\n",
       "[8000 rows x 2 columns]"
      ]
     },
     "execution_count": 4,
     "metadata": {},
     "output_type": "execute_result"
    }
   ],
   "source": [
    "images = pd.Series(list(images), name = 'Images')\n",
    "genders = pd.Series(list(genders), name = 'Genders')\n",
    "\n",
    "df = pd.concat([images,genders], axis=1)\n",
    "df"
   ]
  },
  {
   "cell_type": "code",
   "execution_count": 5,
   "metadata": {
    "execution": {
     "iopub.execute_input": "2024-01-21T16:24:14.905452Z",
     "iopub.status.busy": "2024-01-21T16:24:14.904795Z",
     "iopub.status.idle": "2024-01-21T16:24:14.937136Z",
     "shell.execute_reply": "2024-01-21T16:24:14.936563Z",
     "shell.execute_reply.started": "2024-01-21T15:16:36.935574Z"
    },
    "papermill": {
     "duration": 0.054056,
     "end_time": "2024-01-21T16:24:14.937278",
     "exception": false,
     "start_time": "2024-01-21T16:24:14.883222",
     "status": "completed"
    },
    "tags": []
   },
   "outputs": [
    {
     "data": {
      "image/png": "[encoded data removed]",
      "text/plain": [
       "<PIL.JpegImagePlugin.JpegImageFile image mode=RGB size=200x200 at 0x7A7D380E1990>"
      ]
     },
     "metadata": {},
     "output_type": "display_data"
    },
    {
     "name": "stdout",
     "output_type": "stream",
     "text": [
      "0\n"
     ]
    }
   ],
   "source": [
    "display(df['Images'][0])\n",
    "print(df['Genders'][0])"
   ]
  },
  {
   "cell_type": "markdown",
   "metadata": {
    "papermill": {
     "duration": 0.018927,
     "end_time": "2024-01-21T16:24:14.974099",
     "exception": false,
     "start_time": "2024-01-21T16:24:14.955172",
     "status": "completed"
    },
    "tags": []
   },
   "source": [
    "Data Preprocessing\n"
   ]
  },
  {
   "cell_type": "code",
   "execution_count": 6,
   "metadata": {
    "execution": {
     "iopub.execute_input": "2024-01-21T16:24:15.025240Z",
     "iopub.status.busy": "2024-01-21T16:24:15.024159Z",
     "iopub.status.idle": "2024-01-21T16:24:15.155788Z",
     "shell.execute_reply": "2024-01-21T16:24:15.155172Z",
     "shell.execute_reply.started": "2024-01-21T15:16:36.967596Z"
    },
    "papermill": {
     "duration": 0.161521,
     "end_time": "2024-01-21T16:24:15.155988",
     "exception": false,
     "start_time": "2024-01-21T16:24:14.994467",
     "status": "completed"
    },
    "tags": []
   },
   "outputs": [
    {
     "name": "stderr",
     "output_type": "stream",
     "text": [
      "/opt/conda/lib/python3.7/site-packages/seaborn/_decorators.py:43: FutureWarning: Pass the following variable as a keyword arg: x. From version 0.12, the only valid positional argument will be `data`, and passing other arguments without an explicit keyword will result in an error or misinterpretation.\n",
      "  FutureWarning\n"
     ]
    },
    {
     "data": {
      "text/plain": [
       "<AxesSubplot:xlabel='Genders', ylabel='count'>"
      ]
     },
     "execution_count": 6,
     "metadata": {},
     "output_type": "execute_result"
    },
    {
     "data": {
      "image/png": "[encoded data removed]",
      "text/plain": [
       "<Figure size 432x288 with 1 Axes>"
      ]
     },
     "metadata": {
      "needs_background": "light"
     },
     "output_type": "display_data"
    }
   ],
   "source": [
    "sns.countplot(df['Genders'])"
   ]
  },
  {
   "cell_type": "markdown",
   "metadata": {
    "papermill": {
     "duration": 0.02175,
     "end_time": "2024-01-21T16:24:15.202148",
     "exception": false,
     "start_time": "2024-01-21T16:24:15.180398",
     "status": "completed"
    },
    "tags": []
   },
   "source": [
    "Not sure what 3 corresponds to - both genders, no gender, unknown, or just an error in the data entry? To be safe, I am going to remove any rows where gender equals 3."
   ]
  },
  {
   "cell_type": "code",
   "execution_count": 7,
   "metadata": {
    "execution": {
     "iopub.execute_input": "2024-01-21T16:24:15.246237Z",
     "iopub.status.busy": "2024-01-21T16:24:15.245368Z",
     "iopub.status.idle": "2024-01-21T16:24:15.362880Z",
     "shell.execute_reply": "2024-01-21T16:24:15.362370Z",
     "shell.execute_reply.started": "2024-01-21T15:16:37.087316Z"
    },
    "papermill": {
     "duration": 0.141329,
     "end_time": "2024-01-21T16:24:15.363029",
     "exception": false,
     "start_time": "2024-01-21T16:24:15.221700",
     "status": "completed"
    },
    "tags": []
   },
   "outputs": [
    {
     "name": "stderr",
     "output_type": "stream",
     "text": [
      "/opt/conda/lib/python3.7/site-packages/seaborn/_decorators.py:43: FutureWarning: Pass the following variable as a keyword arg: x. From version 0.12, the only valid positional argument will be `data`, and passing other arguments without an explicit keyword will result in an error or misinterpretation.\n",
      "  FutureWarning\n"
     ]
    },
    {
     "data": {
      "text/plain": [
       "<AxesSubplot:xlabel='Genders', ylabel='count'>"
      ]
     },
     "execution_count": 7,
     "metadata": {},
     "output_type": "execute_result"
    },
    {
     "data": {
      "image/png": "[encoded data removed]",
      "text/plain": [
       "<Figure size 432x288 with 1 Axes>"
      ]
     },
     "metadata": {
      "needs_background": "light"
     },
     "output_type": "display_data"
    }
   ],
   "source": [
    "df = df[df['Genders'] != 3]\n",
    "sns.countplot(df['Genders'])"
   ]
  },
  {
   "cell_type": "code",
   "execution_count": 8,
   "metadata": {
    "execution": {
     "iopub.execute_input": "2024-01-21T16:24:15.411355Z",
     "iopub.status.busy": "2024-01-21T16:24:15.410734Z",
     "iopub.status.idle": "2024-01-21T16:24:30.168235Z",
     "shell.execute_reply": "2024-01-21T16:24:30.167547Z",
     "shell.execute_reply.started": "2024-01-21T15:16:37.213458Z"
    },
    "papermill": {
     "duration": 14.784383,
     "end_time": "2024-01-21T16:24:30.168382",
     "exception": false,
     "start_time": "2024-01-21T16:24:15.383999",
     "status": "completed"
    },
    "tags": []
   },
   "outputs": [
    {
     "name": "stderr",
     "output_type": "stream",
     "text": [
      "/opt/conda/lib/python3.7/site-packages/pandas/core/indexing.py:670: SettingWithCopyWarning: \n",
      "A value is trying to be set on a copy of a slice from a DataFrame\n",
      "\n",
      "See the caveats in the documentation: https://pandas.pydata.org/pandas-docs/stable/user_guide/indexing.html#returning-a-view-versus-a-copy\n",
      "  iloc._setitem_with_indexer(indexer, value)\n"
     ]
    }
   ],
   "source": [
    "x = []\n",
    "y = []\n",
    "\n",
    "for i in range(len(df)):\n",
    "    df['Images'].iloc[i] = df['Images'].iloc[i].resize((200,200), Image.ANTIALIAS)\n",
    "    ar = np.asarray(df['Images'].iloc[i])\n",
    "    x.append(ar)\n",
    "    agegen = [int(df['Genders'].iloc[i])]\n",
    "    y.append(agegen)\n",
    "x = np.array(x)"
   ]
  },
  {
   "cell_type": "markdown",
   "metadata": {
    "papermill": {
     "duration": 0.020364,
     "end_time": "2024-01-21T16:24:30.210826",
     "exception": false,
     "start_time": "2024-01-21T16:24:30.190462",
     "status": "completed"
    },
    "tags": []
   },
   "source": [
    "Train Test Split"
   ]
  },
  {
   "cell_type": "code",
   "execution_count": 9,
   "metadata": {
    "execution": {
     "iopub.execute_input": "2024-01-21T16:24:30.259288Z",
     "iopub.status.busy": "2024-01-21T16:24:30.258629Z",
     "iopub.status.idle": "2024-01-21T16:24:30.616502Z",
     "shell.execute_reply": "2024-01-21T16:24:30.615800Z",
     "shell.execute_reply.started": "2024-01-21T15:16:47.593148Z"
    },
    "papermill": {
     "duration": 0.384851,
     "end_time": "2024-01-21T16:24:30.616646",
     "exception": false,
     "start_time": "2024-01-21T16:24:30.231795",
     "status": "completed"
    },
    "tags": []
   },
   "outputs": [],
   "source": [
    "\n",
    "y_gender = df['Genders']\n",
    "x_train_gender, x_test_gender, y_train_gender, y_test_gender = train_test_split(x, y_gender, test_size=0.2, stratify=y_gender)"
   ]
  },
  {
   "cell_type": "markdown",
   "metadata": {
    "papermill": {
     "duration": 0.020162,
     "end_time": "2024-01-21T16:24:30.657770",
     "exception": false,
     "start_time": "2024-01-21T16:24:30.637608",
     "status": "completed"
    },
    "tags": []
   },
   "source": [
    "Model Creation"
   ]
  },
  {
   "cell_type": "code",
   "execution_count": 10,
   "metadata": {
    "execution": {
     "iopub.execute_input": "2024-01-21T16:24:30.707085Z",
     "iopub.status.busy": "2024-01-21T16:24:30.706408Z",
     "iopub.status.idle": "2024-01-21T16:24:33.325652Z",
     "shell.execute_reply": "2024-01-21T16:24:33.326179Z",
     "shell.execute_reply.started": "2024-01-21T15:16:48.268575Z"
    },
    "papermill": {
     "duration": 2.647847,
     "end_time": "2024-01-21T16:24:33.326353",
     "exception": false,
     "start_time": "2024-01-21T16:24:30.678506",
     "status": "completed"
    },
    "tags": []
   },
   "outputs": [],
   "source": [
    "genmodel = Sequential()\n",
    "genmodel.add(Conv2D(32, (3,3), activation='relu', input_shape=(200, 200, 3)))\n",
    "genmodel.add(MaxPooling2D((2,2)))\n",
    "genmodel.add(Conv2D(64, (3,3), activation='relu'))\n",
    "genmodel.add(MaxPooling2D((2,2)))\n",
    "genmodel.add(Conv2D(128, (3,3), activation='relu'))\n",
    "genmodel.add(MaxPooling2D((2,2)))\n",
    "genmodel.add(Flatten())\n",
    "genmodel.add(Dense(64, activation='relu'))\n",
    "genmodel.add(Dropout(0.5))\n",
    "genmodel.add(Dense(1, activation='sigmoid'))\n",
    "\n",
    "genmodel.compile(loss='binary_crossentropy',\n",
    "             optimizer=optimizers.Adam(lr=0.0001),\n",
    "             metrics=['accuracy'])"
   ]
  },
  {
   "cell_type": "markdown",
   "metadata": {
    "papermill": {
     "duration": 0.021354,
     "end_time": "2024-01-21T16:24:33.368516",
     "exception": false,
     "start_time": "2024-01-21T16:24:33.347162",
     "status": "completed"
    },
    "tags": []
   },
   "source": [
    "Model Training"
   ]
  },
  {
   "cell_type": "code",
   "execution_count": 11,
   "metadata": {
    "execution": {
     "iopub.execute_input": "2024-01-21T16:24:33.416185Z",
     "iopub.status.busy": "2024-01-21T16:24:33.415547Z",
     "iopub.status.idle": "2024-01-21T17:04:13.406304Z",
     "shell.execute_reply": "2024-01-21T17:04:13.405717Z",
     "shell.execute_reply.started": "2024-01-21T15:16:48.353681Z"
    },
    "papermill": {
     "duration": 2380.017289,
     "end_time": "2024-01-21T17:04:13.406468",
     "exception": false,
     "start_time": "2024-01-21T16:24:33.389179",
     "status": "completed"
    },
    "tags": []
   },
   "outputs": [
    {
     "name": "stdout",
     "output_type": "stream",
     "text": [
      "Epoch 1/50\n",
      "100/100 [==============================] - 51s 480ms/step - loss: 0.6795 - accuracy: 0.5640 - val_loss: 0.6160 - val_accuracy: 0.6463\n",
      "Epoch 2/50\n",
      "100/100 [==============================] - 48s 475ms/step - loss: 0.6304 - accuracy: 0.6309 - val_loss: 0.6008 - val_accuracy: 0.6650\n",
      "Epoch 3/50\n",
      "100/100 [==============================] - 47s 474ms/step - loss: 0.6048 - accuracy: 0.6686 - val_loss: 0.5719 - val_accuracy: 0.6925\n",
      "Epoch 4/50\n",
      "100/100 [==============================] - 48s 477ms/step - loss: 0.5943 - accuracy: 0.6724 - val_loss: 0.5463 - val_accuracy: 0.7163\n",
      "Epoch 5/50\n",
      "100/100 [==============================] - 47s 470ms/step - loss: 0.5757 - accuracy: 0.6963 - val_loss: 0.5363 - val_accuracy: 0.7369\n",
      "Epoch 6/50\n",
      "100/100 [==============================] - 48s 475ms/step - loss: 0.5677 - accuracy: 0.7009 - val_loss: 0.5145 - val_accuracy: 0.7400\n",
      "Epoch 7/50\n",
      "100/100 [==============================] - 47s 473ms/step - loss: 0.5525 - accuracy: 0.7079 - val_loss: 0.5038 - val_accuracy: 0.7625\n",
      "Epoch 8/50\n",
      "100/100 [==============================] - 48s 475ms/step - loss: 0.5346 - accuracy: 0.7186 - val_loss: 0.4962 - val_accuracy: 0.7519\n",
      "Epoch 9/50\n",
      "100/100 [==============================] - 47s 471ms/step - loss: 0.5340 - accuracy: 0.7211 - val_loss: 0.4919 - val_accuracy: 0.7625\n",
      "Epoch 10/50\n",
      "100/100 [==============================] - 47s 472ms/step - loss: 0.5311 - accuracy: 0.7503 - val_loss: 0.4808 - val_accuracy: 0.7656\n",
      "Epoch 11/50\n",
      "100/100 [==============================] - 47s 470ms/step - loss: 0.5209 - accuracy: 0.7447 - val_loss: 0.4915 - val_accuracy: 0.7500\n",
      "Epoch 12/50\n",
      "100/100 [==============================] - 47s 471ms/step - loss: 0.5109 - accuracy: 0.7428 - val_loss: 0.4769 - val_accuracy: 0.7619\n",
      "Epoch 13/50\n",
      "100/100 [==============================] - 47s 474ms/step - loss: 0.5063 - accuracy: 0.7481 - val_loss: 0.4758 - val_accuracy: 0.7725\n",
      "Epoch 14/50\n",
      "100/100 [==============================] - 47s 472ms/step - loss: 0.5104 - accuracy: 0.7416 - val_loss: 0.4677 - val_accuracy: 0.7800\n",
      "Epoch 15/50\n",
      "100/100 [==============================] - 47s 473ms/step - loss: 0.4985 - accuracy: 0.7581 - val_loss: 0.4777 - val_accuracy: 0.7644\n",
      "Epoch 16/50\n",
      "100/100 [==============================] - 47s 472ms/step - loss: 0.4878 - accuracy: 0.7637 - val_loss: 0.4466 - val_accuracy: 0.7856\n",
      "Epoch 17/50\n",
      "100/100 [==============================] - 47s 474ms/step - loss: 0.4974 - accuracy: 0.7510 - val_loss: 0.4495 - val_accuracy: 0.7794\n",
      "Epoch 18/50\n",
      "100/100 [==============================] - 47s 472ms/step - loss: 0.4921 - accuracy: 0.7610 - val_loss: 0.4396 - val_accuracy: 0.7862\n",
      "Epoch 19/50\n",
      "100/100 [==============================] - 48s 476ms/step - loss: 0.4860 - accuracy: 0.7625 - val_loss: 0.4497 - val_accuracy: 0.7763\n",
      "Epoch 20/50\n",
      "100/100 [==============================] - 47s 474ms/step - loss: 0.4767 - accuracy: 0.7700 - val_loss: 0.4373 - val_accuracy: 0.7881\n",
      "Epoch 21/50\n",
      "100/100 [==============================] - 48s 475ms/step - loss: 0.4722 - accuracy: 0.7657 - val_loss: 0.4299 - val_accuracy: 0.7881\n",
      "Epoch 22/50\n",
      "100/100 [==============================] - 47s 472ms/step - loss: 0.4731 - accuracy: 0.7683 - val_loss: 0.4341 - val_accuracy: 0.7837\n",
      "Epoch 23/50\n",
      "100/100 [==============================] - 48s 476ms/step - loss: 0.4846 - accuracy: 0.7630 - val_loss: 0.4346 - val_accuracy: 0.7844\n",
      "Epoch 24/50\n",
      "100/100 [==============================] - 47s 473ms/step - loss: 0.4680 - accuracy: 0.7750 - val_loss: 0.4260 - val_accuracy: 0.7862\n",
      "Epoch 25/50\n",
      "100/100 [==============================] - 48s 476ms/step - loss: 0.4563 - accuracy: 0.7831 - val_loss: 0.4209 - val_accuracy: 0.7869\n",
      "Epoch 26/50\n",
      "100/100 [==============================] - 47s 474ms/step - loss: 0.4607 - accuracy: 0.7748 - val_loss: 0.4211 - val_accuracy: 0.7794\n",
      "Epoch 27/50\n",
      "100/100 [==============================] - 47s 474ms/step - loss: 0.4588 - accuracy: 0.7730 - val_loss: 0.4204 - val_accuracy: 0.7931\n",
      "Epoch 28/50\n",
      "100/100 [==============================] - 48s 476ms/step - loss: 0.4569 - accuracy: 0.7795 - val_loss: 0.4200 - val_accuracy: 0.7931\n",
      "Epoch 29/50\n",
      "100/100 [==============================] - 48s 477ms/step - loss: 0.4511 - accuracy: 0.7794 - val_loss: 0.4319 - val_accuracy: 0.7862\n",
      "Epoch 30/50\n",
      "100/100 [==============================] - 47s 471ms/step - loss: 0.4513 - accuracy: 0.7828 - val_loss: 0.4165 - val_accuracy: 0.7925\n",
      "Epoch 31/50\n",
      "100/100 [==============================] - 47s 472ms/step - loss: 0.4422 - accuracy: 0.7814 - val_loss: 0.4139 - val_accuracy: 0.7875\n",
      "Epoch 32/50\n",
      "100/100 [==============================] - 47s 473ms/step - loss: 0.4581 - accuracy: 0.7734 - val_loss: 0.4155 - val_accuracy: 0.7944\n",
      "Epoch 33/50\n",
      "100/100 [==============================] - 48s 475ms/step - loss: 0.4538 - accuracy: 0.7832 - val_loss: 0.4130 - val_accuracy: 0.7981\n",
      "Epoch 34/50\n",
      "100/100 [==============================] - 47s 472ms/step - loss: 0.4414 - accuracy: 0.7932 - val_loss: 0.4095 - val_accuracy: 0.7925\n",
      "Epoch 35/50\n",
      "100/100 [==============================] - 47s 472ms/step - loss: 0.4525 - accuracy: 0.7761 - val_loss: 0.4290 - val_accuracy: 0.7875\n",
      "Epoch 36/50\n",
      "100/100 [==============================] - 48s 478ms/step - loss: 0.4495 - accuracy: 0.7890 - val_loss: 0.4083 - val_accuracy: 0.7950\n",
      "Epoch 37/50\n",
      "100/100 [==============================] - 48s 475ms/step - loss: 0.4467 - accuracy: 0.7957 - val_loss: 0.4097 - val_accuracy: 0.8037\n",
      "Epoch 38/50\n",
      "100/100 [==============================] - 47s 474ms/step - loss: 0.4448 - accuracy: 0.7806 - val_loss: 0.4042 - val_accuracy: 0.7944\n",
      "Epoch 39/50\n",
      "100/100 [==============================] - 47s 473ms/step - loss: 0.4345 - accuracy: 0.7932 - val_loss: 0.4080 - val_accuracy: 0.8000\n",
      "Epoch 40/50\n",
      "100/100 [==============================] - 47s 474ms/step - loss: 0.4381 - accuracy: 0.7994 - val_loss: 0.4214 - val_accuracy: 0.7912\n",
      "Epoch 41/50\n",
      "100/100 [==============================] - 47s 472ms/step - loss: 0.4379 - accuracy: 0.7940 - val_loss: 0.4013 - val_accuracy: 0.7950\n",
      "Epoch 42/50\n",
      "100/100 [==============================] - 48s 477ms/step - loss: 0.4374 - accuracy: 0.7887 - val_loss: 0.3943 - val_accuracy: 0.8106\n",
      "Epoch 43/50\n",
      "100/100 [==============================] - 48s 475ms/step - loss: 0.4208 - accuracy: 0.8064 - val_loss: 0.3982 - val_accuracy: 0.8019\n",
      "Epoch 44/50\n",
      "100/100 [==============================] - 48s 483ms/step - loss: 0.4201 - accuracy: 0.8014 - val_loss: 0.3961 - val_accuracy: 0.8019\n",
      "Epoch 45/50\n",
      "100/100 [==============================] - 47s 474ms/step - loss: 0.4178 - accuracy: 0.8035 - val_loss: 0.4262 - val_accuracy: 0.7850\n",
      "Epoch 46/50\n",
      "100/100 [==============================] - 48s 483ms/step - loss: 0.4273 - accuracy: 0.7997 - val_loss: 0.4054 - val_accuracy: 0.8044\n",
      "Epoch 47/50\n",
      "100/100 [==============================] - 48s 477ms/step - loss: 0.4238 - accuracy: 0.8033 - val_loss: 0.4020 - val_accuracy: 0.7944\n",
      "Epoch 48/50\n",
      "100/100 [==============================] - 48s 475ms/step - loss: 0.4019 - accuracy: 0.8065 - val_loss: 0.3983 - val_accuracy: 0.8025\n",
      "Epoch 49/50\n",
      "100/100 [==============================] - 48s 475ms/step - loss: 0.4156 - accuracy: 0.8126 - val_loss: 0.3976 - val_accuracy: 0.8044\n",
      "Epoch 50/50\n",
      "100/100 [==============================] - 48s 482ms/step - loss: 0.4163 - accuracy: 0.8015 - val_loss: 0.3928 - val_accuracy: 0.8044\n"
     ]
    }
   ],
   "source": [
    "datagen = ImageDataGenerator(\n",
    "      rescale=1./255., width_shift_range = 0.1, height_shift_range = 0.1, horizontal_flip = True)\n",
    "\n",
    "test_datagen = ImageDataGenerator(rescale=1./255)\n",
    "\n",
    "train2 = datagen.flow(x_train_gender, y_train_gender, batch_size=64)\n",
    "\n",
    "test2 = test_datagen.flow(\n",
    "        x_test_gender, y_test_gender,\n",
    "        batch_size=64)\n",
    "\n",
    "history2 = genmodel.fit(train2, epochs=50, shuffle=True, validation_data=test2)"
   ]
  },
  {
   "cell_type": "code",
   "execution_count": 12,
   "metadata": {
    "execution": {
     "iopub.execute_input": "2024-01-21T17:04:16.839169Z",
     "iopub.status.busy": "2024-01-21T17:04:16.828554Z",
     "iopub.status.idle": "2024-01-21T17:04:17.154148Z",
     "shell.execute_reply": "2024-01-21T17:04:17.154643Z",
     "shell.execute_reply.started": "2024-01-21T16:21:35.520910Z"
    },
    "papermill": {
     "duration": 2.017025,
     "end_time": "2024-01-21T17:04:17.154816",
     "exception": false,
     "start_time": "2024-01-21T17:04:15.137791",
     "status": "completed"
    },
    "tags": []
   },
   "outputs": [
    {
     "data": {
      "image/png": "[encoded data removed]",
      "text/plain": [
       "<Figure size 432x288 with 1 Axes>"
      ]
     },
     "metadata": {
      "needs_background": "light"
     },
     "output_type": "display_data"
    },
    {
     "data": {
      "image/png": "[encoded data removed]",
      "text/plain": [
       "<Figure size 432x288 with 1 Axes>"
      ]
     },
     "metadata": {
      "needs_background": "light"
     },
     "output_type": "display_data"
    }
   ],
   "source": [
    "import matplotlib.pyplot as plt\n",
    "\n",
    "\n",
    "\n",
    "# Plot training & validation accuracy values\n",
    "plt.plot(history2.history['accuracy'])\n",
    "plt.plot(history2.history['val_accuracy'])\n",
    "plt.title('Model accuracy')\n",
    "plt.xlabel('Epoch')\n",
    "plt.ylabel('Accuracy')\n",
    "plt.legend(['Train', 'Validation'], loc='upper left')\n",
    "plt.show()\n",
    "\n",
    "# Plot training & validation loss values\n",
    "plt.plot(history2.history['loss'])\n",
    "plt.plot(history2.history['val_loss'])\n",
    "plt.title('Model loss')\n",
    "plt.xlabel('Epoch')\n",
    "plt.ylabel('Loss')\n",
    "plt.legend(['Train', 'Validation'], loc='upper left')\n",
    "plt.show()\n"
   ]
  },
  {
   "cell_type": "code",
   "execution_count": 13,
   "metadata": {
    "execution": {
     "iopub.execute_input": "2024-01-21T17:04:20.516454Z",
     "iopub.status.busy": "2024-01-21T17:04:20.515731Z",
     "iopub.status.idle": "2024-01-21T17:04:20.612583Z",
     "shell.execute_reply": "2024-01-21T17:04:20.612060Z",
     "shell.execute_reply.started": "2024-01-21T16:21:44.651057Z"
    },
    "papermill": {
     "duration": 1.798528,
     "end_time": "2024-01-21T17:04:20.612732",
     "exception": false,
     "start_time": "2024-01-21T17:04:18.814204",
     "status": "completed"
    },
    "tags": []
   },
   "outputs": [],
   "source": [
    "genmodel.save(\"gen_model_v4.h5\")"
   ]
  },
  {
   "cell_type": "markdown",
   "metadata": {
    "papermill": {
     "duration": 1.702259,
     "end_time": "2024-01-21T17:04:23.981897",
     "exception": false,
     "start_time": "2024-01-21T17:04:22.279638",
     "status": "completed"
    },
    "tags": []
   },
   "source": [
    "Model Prediction"
   ]
  },
  {
   "cell_type": "code",
   "execution_count": 14,
   "metadata": {
    "execution": {
     "iopub.execute_input": "2024-01-21T17:04:27.352734Z",
     "iopub.status.busy": "2024-01-21T17:04:27.351990Z",
     "iopub.status.idle": "2024-01-21T17:04:27.354676Z",
     "shell.execute_reply": "2024-01-21T17:04:27.354200Z",
     "shell.execute_reply.started": "2024-01-21T16:22:38.221403Z"
    },
    "papermill": {
     "duration": 1.689941,
     "end_time": "2024-01-21T17:04:27.354816",
     "exception": false,
     "start_time": "2024-01-21T17:04:25.664875",
     "status": "completed"
    },
    "tags": []
   },
   "outputs": [],
   "source": [
    "def process_and_predict(file):\n",
    "    im = Image.open(file)\n",
    "    width, height = im.size\n",
    "    if width == height:\n",
    "        im = im.resize((200,200), Image.ANTIALIAS)\n",
    "    else:\n",
    "        if width > height:\n",
    "            left = width/2 - height/2\n",
    "            right = width/2 + height/2\n",
    "            top = 0\n",
    "            bottom = height\n",
    "            im = im.crop((left,top,right,bottom))\n",
    "            im = im.resize((200,200), Image.ANTIALIAS)\n",
    "        else:\n",
    "            left = 0\n",
    "            right = width\n",
    "            top = 0\n",
    "            bottom = width\n",
    "            im = im.crop((left,top,right,bottom))\n",
    "            im = im.resize((200,200), Image.ANTIALIAS)\n",
    "            \n",
    "    ar = np.asarray(im)\n",
    "    ar = ar.astype('float32')\n",
    "    ar /= 255.0\n",
    "    ar = ar.reshape(-1, 200, 200, 3)\n",
    "    \n",
    "    gender = np.round(genmodel.predict(ar))\n",
    "    if gender == 0:\n",
    "        gender = 'male'\n",
    "    elif gender == 1:\n",
    "        gender = 'female'\n",
    "        \n",
    "    print('Gender:', gender)\n",
    "    return im.resize((300,300), Image.ANTIALIAS)"
   ]
  }
 ],
 "metadata": {
  "kaggle": {
   "accelerator": "gpu",
   "dataSources": [
    {
     "datasetId": 44109,
     "sourceId": 78156,
     "sourceType": "datasetVersion"
    }
   ],
   "dockerImageVersionId": 30066,
   "isGpuEnabled": true,
   "isInternetEnabled": true,
   "language": "python",
   "sourceType": "notebook"
  },
  "kernelspec": {
   "display_name": "Python 3",
   "language": "python",
   "name": "python3"
  },
  "language_info": {
   "codemirror_mode": {
    "name": "ipython",
    "version": 3
   },
   "file_extension": ".py",
   "mimetype": "text/x-python",
   "name": "python",
   "nbconvert_exporter": "python",
   "pygments_lexer": "ipython3",
   "version": "3.7.9"
  },
  "papermill": {
   "default_parameters": {},
   "duration": 2473.925382,
   "end_time": "2024-01-21T17:04:31.165664",
   "environment_variables": {},
   "exception": null,
   "input_path": "__notebook__.ipynb",
   "output_path": "__notebook__.ipynb",
   "parameters": {},
   "start_time": "2024-01-21T16:23:17.240282",
   "version": "2.2.2"
  }
 },
 "nbformat": 4,
 "nbformat_minor": 4
}
